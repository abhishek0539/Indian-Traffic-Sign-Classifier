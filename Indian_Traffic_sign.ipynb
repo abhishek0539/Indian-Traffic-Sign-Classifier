{
  "cells": [
    {
      "cell_type": "code",
      "source": [
        "# Install required libraries\n",
        "!pip install -q kaggle pandas numpy scikit-image scikit-learn tensorflow matplotlib ipywidgets\n",
        "!pip instal kaggle"
      ],
      "metadata": {
        "id": "jenNqesE_VQr"
      },
      "id": "jenNqesE_VQr",
      "execution_count": null,
      "outputs": []
    },
    {
      "cell_type": "code",
      "source": [
        "# Connect kaggle for dataset\n",
        "from google.colab import files\n",
        "files.upload()\n",
        "!mkdir -p ~/.kaggle\n",
        "!cp kaggle.json ~/.kaggle/\n",
        "!chmod 600 ~/.kaggle/kaggle.json\n",
        "!kaggle"
      ],
      "metadata": {
        "id": "gxL1OhKKRh95",
        "collapsed": true
      },
      "id": "gxL1OhKKRh95",
      "execution_count": null,
      "outputs": []
    },
    {
      "cell_type": "code",
      "source": [
        "# Download and unzip the Indian Traffic Sign Dataset\n",
        "!kaggle datasets download -d sarangdilipjodh/indian-traffic-signs-prediction85-classes\n",
        "!unzip indian-traffic-signs-prediction85-classes.zip -d /content/indian-traffic-sign-dataset"
      ],
      "metadata": {
        "id": "wGwJHJcf_cVU"
      },
      "id": "wGwJHJcf_cVU",
      "execution_count": null,
      "outputs": []
    },
    {
      "cell_type": "code",
      "source": [
        "# Model\n",
        "!kaggle datasets download -d madmaxliu/inceptionv3\n",
        "!unzip inceptionv3.zip -d /content/inceptionv3"
      ],
      "metadata": {
        "id": "02K4ZagH_6Dy"
      },
      "id": "02K4ZagH_6Dy",
      "execution_count": null,
      "outputs": []
    },
    {
      "cell_type": "code",
      "execution_count": 3,
      "id": "2fc791fc",
      "metadata": {
        "execution": {
          "iopub.execute_input": "2023-11-06T07:06:40.959516Z",
          "iopub.status.busy": "2023-11-06T07:06:40.958534Z",
          "iopub.status.idle": "2023-11-06T07:06:46.562218Z",
          "shell.execute_reply": "2023-11-06T07:06:46.561174Z"
        },
        "papermill": {
          "duration": 5.613536,
          "end_time": "2023-11-06T07:06:46.564883",
          "exception": false,
          "start_time": "2023-11-06T07:06:40.951347",
          "status": "completed"
        },
        "tags": [],
        "id": "2fc791fc"
      },
      "outputs": [],
      "source": [
        "# Importing Libraries\n",
        "from tensorflow import keras\n",
        "from tensorflow.keras.applications.inception_v3 import InceptionV3\n",
        "from tensorflow.keras.preprocessing.image import ImageDataGenerator\n",
        "from tensorflow.keras.models import Sequential\n",
        "from tensorflow.keras.layers import Conv2D, Flatten, MaxPooling2D, Dense, Dropout, GlobalAveragePooling2D\n",
        "from tensorflow.keras import optimizers, losses\n",
        "from tensorflow.keras.callbacks import ModelCheckpoint\n",
        "from tensorflow.keras.preprocessing import image\n",
        "\n",
        "import numpy as np\n",
        "import matplotlib.pyplot as plt\n",
        "\n",
        "import warnings\n",
        "warnings.filterwarnings(\"ignore\")"
      ]
    },
    {
      "cell_type": "code",
      "execution_count": 4,
      "id": "8dd8b2ba",
      "metadata": {
        "execution": {
          "iopub.execute_input": "2023-11-06T07:06:46.576239Z",
          "iopub.status.busy": "2023-11-06T07:06:46.575709Z",
          "iopub.status.idle": "2023-11-06T07:06:46.580374Z",
          "shell.execute_reply": "2023-11-06T07:06:46.579474Z"
        },
        "papermill": {
          "duration": 0.012365,
          "end_time": "2023-11-06T07:06:46.582480",
          "exception": false,
          "start_time": "2023-11-06T07:06:46.570115",
          "status": "completed"
        },
        "tags": [],
        "id": "8dd8b2ba"
      },
      "outputs": [],
      "source": [
        "# Base Path for all files\n",
        "data_dir = '/content/indian-traffic-sign-dataset/traffic_sign_classification_dataset/train'"
      ]
    },
    {
      "cell_type": "code",
      "execution_count": 5,
      "id": "a5cec9ad",
      "metadata": {
        "execution": {
          "iopub.execute_input": "2023-11-06T07:06:46.592297Z",
          "iopub.status.busy": "2023-11-06T07:06:46.591993Z",
          "iopub.status.idle": "2023-11-06T07:06:47.126952Z",
          "shell.execute_reply": "2023-11-06T07:06:47.126106Z"
        },
        "papermill": {
          "duration": 0.542293,
          "end_time": "2023-11-06T07:06:47.129141",
          "exception": false,
          "start_time": "2023-11-06T07:06:46.586848",
          "status": "completed"
        },
        "tags": [],
        "id": "a5cec9ad",
        "outputId": "ebaf61de-9f1e-44ed-c8c9-4b11ea6da11c",
        "colab": {
          "base_uri": "https://localhost:8080/"
        }
      },
      "outputs": [
        {
          "output_type": "stream",
          "name": "stdout",
          "text": [
            "Found 4031 images belonging to 85 classes.\n",
            "Found 407 images belonging to 85 classes.\n"
          ]
        }
      ],
      "source": [
        "# Using ImageDataGenerator to load the Images for Training and Testing the CNN Model\n",
        "datagenerator = {\n",
        "    \"train\": ImageDataGenerator(horizontal_flip=True,vertical_flip=True,rescale=1. / 255,validation_split=0.1,shear_range=0.1,zoom_range=0.1,width_shift_range=0.1,\n",
        "                                height_shift_range=0.1,\n",
        "                                rotation_range=30,\n",
        "                               ).flow_from_directory(directory=data_dir,target_size=(300, 300),subset='training',),\n",
        "\n",
        "    \"valid\": ImageDataGenerator(rescale=1 / 255,\n",
        "                                validation_split=0.1,\n",
        "                               ).flow_from_directory(directory=data_dir,\n",
        "                                                     target_size=(300, 300),\n",
        "                                                     subset='validation',\n",
        "                                                    ),\n",
        "}"
      ]
    },
    {
      "cell_type": "code",
      "execution_count": 10,
      "id": "cd8e41c2",
      "metadata": {
        "execution": {
          "iopub.execute_input": "2023-11-06T07:06:47.139752Z",
          "iopub.status.busy": "2023-11-06T07:06:47.139404Z",
          "iopub.status.idle": "2023-11-06T07:06:53.764604Z",
          "shell.execute_reply": "2023-11-06T07:06:53.763489Z"
        },
        "papermill": {
          "duration": 6.633231,
          "end_time": "2023-11-06T07:06:53.767140",
          "exception": false,
          "start_time": "2023-11-06T07:06:47.133909",
          "status": "completed"
        },
        "tags": [],
        "id": "cd8e41c2"
      },
      "outputs": [],
      "source": [
        "# Initializing InceptionV3 (pretrained) model with input image shape as (300, 300, 3)\n",
        "base_model = InceptionV3(weights=None, include_top=False, input_shape=(300, 300, 3))\n",
        "\n",
        "# Load Weights for the InceptionV3 Model\n",
        "base_model.load_weights('/content/inceptionv3/inception_v3_weights_tf_dim_ordering_tf_kernels_notop.h5')\n",
        "\n",
        "# Setting the Training of all layers of InceptionV3 model to false\n",
        "base_model.trainable = False"
      ]
    },
    {
      "cell_type": "code",
      "execution_count": 11,
      "id": "cce4e2fc",
      "metadata": {
        "execution": {
          "iopub.execute_input": "2023-11-06T07:06:53.777899Z",
          "iopub.status.busy": "2023-11-06T07:06:53.777588Z",
          "iopub.status.idle": "2023-11-06T07:06:54.367481Z",
          "shell.execute_reply": "2023-11-06T07:06:54.366684Z"
        },
        "papermill": {
          "duration": 0.597742,
          "end_time": "2023-11-06T07:06:54.369786",
          "exception": false,
          "start_time": "2023-11-06T07:06:53.772044",
          "status": "completed"
        },
        "tags": [],
        "id": "cce4e2fc"
      },
      "outputs": [],
      "source": [
        "# Adding some more layers at the end of the Model as per our requirement\n",
        "model = Sequential([\n",
        "    base_model,\n",
        "    GlobalAveragePooling2D(),\n",
        "    Dropout(0.15),\n",
        "    Dense(1024, activation='relu'),\n",
        "    Dense(85, activation='softmax') # 85 Output Neurons for 85 Classes\n",
        "])"
      ]
    },
    {
      "cell_type": "code",
      "execution_count": 12,
      "id": "f7923034",
      "metadata": {
        "execution": {
          "iopub.execute_input": "2023-11-06T07:06:54.380799Z",
          "iopub.status.busy": "2023-11-06T07:06:54.380423Z",
          "iopub.status.idle": "2023-11-06T07:06:54.398744Z",
          "shell.execute_reply": "2023-11-06T07:06:54.397955Z"
        },
        "papermill": {
          "duration": 0.026376,
          "end_time": "2023-11-06T07:06:54.401046",
          "exception": false,
          "start_time": "2023-11-06T07:06:54.374670",
          "status": "completed"
        },
        "tags": [],
        "id": "f7923034"
      },
      "outputs": [],
      "source": [
        "# Using the Adam Optimizer to set the learning rate of our final model\n",
        "opt = optimizers.Adam(learning_rate=0.0001)\n",
        "\n",
        "# Compiling and setting the parameters we want our model to use\n",
        "model.compile(loss=\"categorical_crossentropy\", optimizer=opt, metrics=['accuracy'])"
      ]
    },
    {
      "cell_type": "code",
      "execution_count": 13,
      "id": "f476027d",
      "metadata": {
        "execution": {
          "iopub.execute_input": "2023-11-06T07:06:54.412660Z",
          "iopub.status.busy": "2023-11-06T07:06:54.411822Z",
          "iopub.status.idle": "2023-11-06T07:06:54.431669Z",
          "shell.execute_reply": "2023-11-06T07:06:54.430552Z"
        },
        "papermill": {
          "duration": 0.027969,
          "end_time": "2023-11-06T07:06:54.433946",
          "exception": false,
          "start_time": "2023-11-06T07:06:54.405977",
          "status": "completed"
        },
        "tags": [],
        "id": "f476027d",
        "outputId": "fc0531ec-aee8-4b53-8454-30da3780ba59",
        "colab": {
          "base_uri": "https://localhost:8080/",
          "height": 317
        }
      },
      "outputs": [
        {
          "output_type": "display_data",
          "data": {
            "text/plain": [
              "\u001b[1mModel: \"sequential\"\u001b[0m\n"
            ],
            "text/html": [
              "<pre style=\"white-space:pre;overflow-x:auto;line-height:normal;font-family:Menlo,'DejaVu Sans Mono',consolas,'Courier New',monospace\"><span style=\"font-weight: bold\">Model: \"sequential\"</span>\n",
              "</pre>\n"
            ]
          },
          "metadata": {}
        },
        {
          "output_type": "display_data",
          "data": {
            "text/plain": [
              "┏━━━━━━━━━━━━━━━━━━━━━━━━━━━━━━━━━┳━━━━━━━━━━━━━━━━━━━━━━━━┳━━━━━━━━━━━━━━━┓\n",
              "┃\u001b[1m \u001b[0m\u001b[1mLayer (type)                   \u001b[0m\u001b[1m \u001b[0m┃\u001b[1m \u001b[0m\u001b[1mOutput Shape          \u001b[0m\u001b[1m \u001b[0m┃\u001b[1m \u001b[0m\u001b[1m      Param #\u001b[0m\u001b[1m \u001b[0m┃\n",
              "┡━━━━━━━━━━━━━━━━━━━━━━━━━━━━━━━━━╇━━━━━━━━━━━━━━━━━━━━━━━━╇━━━━━━━━━━━━━━━┩\n",
              "│ inception_v3 (\u001b[38;5;33mFunctional\u001b[0m)       │ (\u001b[38;5;45mNone\u001b[0m, \u001b[38;5;34m8\u001b[0m, \u001b[38;5;34m8\u001b[0m, \u001b[38;5;34m2048\u001b[0m)     │    \u001b[38;5;34m21,802,784\u001b[0m │\n",
              "├─────────────────────────────────┼────────────────────────┼───────────────┤\n",
              "│ global_average_pooling2d        │ (\u001b[38;5;45mNone\u001b[0m, \u001b[38;5;34m2048\u001b[0m)           │             \u001b[38;5;34m0\u001b[0m │\n",
              "│ (\u001b[38;5;33mGlobalAveragePooling2D\u001b[0m)        │                        │               │\n",
              "├─────────────────────────────────┼────────────────────────┼───────────────┤\n",
              "│ dropout (\u001b[38;5;33mDropout\u001b[0m)               │ (\u001b[38;5;45mNone\u001b[0m, \u001b[38;5;34m2048\u001b[0m)           │             \u001b[38;5;34m0\u001b[0m │\n",
              "├─────────────────────────────────┼────────────────────────┼───────────────┤\n",
              "│ dense (\u001b[38;5;33mDense\u001b[0m)                   │ (\u001b[38;5;45mNone\u001b[0m, \u001b[38;5;34m1024\u001b[0m)           │     \u001b[38;5;34m2,098,176\u001b[0m │\n",
              "├─────────────────────────────────┼────────────────────────┼───────────────┤\n",
              "│ dense_1 (\u001b[38;5;33mDense\u001b[0m)                 │ (\u001b[38;5;45mNone\u001b[0m, \u001b[38;5;34m85\u001b[0m)             │        \u001b[38;5;34m87,125\u001b[0m │\n",
              "└─────────────────────────────────┴────────────────────────┴───────────────┘\n"
            ],
            "text/html": [
              "<pre style=\"white-space:pre;overflow-x:auto;line-height:normal;font-family:Menlo,'DejaVu Sans Mono',consolas,'Courier New',monospace\">┏━━━━━━━━━━━━━━━━━━━━━━━━━━━━━━━━━┳━━━━━━━━━━━━━━━━━━━━━━━━┳━━━━━━━━━━━━━━━┓\n",
              "┃<span style=\"font-weight: bold\"> Layer (type)                    </span>┃<span style=\"font-weight: bold\"> Output Shape           </span>┃<span style=\"font-weight: bold\">       Param # </span>┃\n",
              "┡━━━━━━━━━━━━━━━━━━━━━━━━━━━━━━━━━╇━━━━━━━━━━━━━━━━━━━━━━━━╇━━━━━━━━━━━━━━━┩\n",
              "│ inception_v3 (<span style=\"color: #0087ff; text-decoration-color: #0087ff\">Functional</span>)       │ (<span style=\"color: #00d7ff; text-decoration-color: #00d7ff\">None</span>, <span style=\"color: #00af00; text-decoration-color: #00af00\">8</span>, <span style=\"color: #00af00; text-decoration-color: #00af00\">8</span>, <span style=\"color: #00af00; text-decoration-color: #00af00\">2048</span>)     │    <span style=\"color: #00af00; text-decoration-color: #00af00\">21,802,784</span> │\n",
              "├─────────────────────────────────┼────────────────────────┼───────────────┤\n",
              "│ global_average_pooling2d        │ (<span style=\"color: #00d7ff; text-decoration-color: #00d7ff\">None</span>, <span style=\"color: #00af00; text-decoration-color: #00af00\">2048</span>)           │             <span style=\"color: #00af00; text-decoration-color: #00af00\">0</span> │\n",
              "│ (<span style=\"color: #0087ff; text-decoration-color: #0087ff\">GlobalAveragePooling2D</span>)        │                        │               │\n",
              "├─────────────────────────────────┼────────────────────────┼───────────────┤\n",
              "│ dropout (<span style=\"color: #0087ff; text-decoration-color: #0087ff\">Dropout</span>)               │ (<span style=\"color: #00d7ff; text-decoration-color: #00d7ff\">None</span>, <span style=\"color: #00af00; text-decoration-color: #00af00\">2048</span>)           │             <span style=\"color: #00af00; text-decoration-color: #00af00\">0</span> │\n",
              "├─────────────────────────────────┼────────────────────────┼───────────────┤\n",
              "│ dense (<span style=\"color: #0087ff; text-decoration-color: #0087ff\">Dense</span>)                   │ (<span style=\"color: #00d7ff; text-decoration-color: #00d7ff\">None</span>, <span style=\"color: #00af00; text-decoration-color: #00af00\">1024</span>)           │     <span style=\"color: #00af00; text-decoration-color: #00af00\">2,098,176</span> │\n",
              "├─────────────────────────────────┼────────────────────────┼───────────────┤\n",
              "│ dense_1 (<span style=\"color: #0087ff; text-decoration-color: #0087ff\">Dense</span>)                 │ (<span style=\"color: #00d7ff; text-decoration-color: #00d7ff\">None</span>, <span style=\"color: #00af00; text-decoration-color: #00af00\">85</span>)             │        <span style=\"color: #00af00; text-decoration-color: #00af00\">87,125</span> │\n",
              "└─────────────────────────────────┴────────────────────────┴───────────────┘\n",
              "</pre>\n"
            ]
          },
          "metadata": {}
        },
        {
          "output_type": "display_data",
          "data": {
            "text/plain": [
              "\u001b[1m Total params: \u001b[0m\u001b[38;5;34m23,988,085\u001b[0m (91.51 MB)\n"
            ],
            "text/html": [
              "<pre style=\"white-space:pre;overflow-x:auto;line-height:normal;font-family:Menlo,'DejaVu Sans Mono',consolas,'Courier New',monospace\"><span style=\"font-weight: bold\"> Total params: </span><span style=\"color: #00af00; text-decoration-color: #00af00\">23,988,085</span> (91.51 MB)\n",
              "</pre>\n"
            ]
          },
          "metadata": {}
        },
        {
          "output_type": "display_data",
          "data": {
            "text/plain": [
              "\u001b[1m Trainable params: \u001b[0m\u001b[38;5;34m2,185,301\u001b[0m (8.34 MB)\n"
            ],
            "text/html": [
              "<pre style=\"white-space:pre;overflow-x:auto;line-height:normal;font-family:Menlo,'DejaVu Sans Mono',consolas,'Courier New',monospace\"><span style=\"font-weight: bold\"> Trainable params: </span><span style=\"color: #00af00; text-decoration-color: #00af00\">2,185,301</span> (8.34 MB)\n",
              "</pre>\n"
            ]
          },
          "metadata": {}
        },
        {
          "output_type": "display_data",
          "data": {
            "text/plain": [
              "\u001b[1m Non-trainable params: \u001b[0m\u001b[38;5;34m21,802,784\u001b[0m (83.17 MB)\n"
            ],
            "text/html": [
              "<pre style=\"white-space:pre;overflow-x:auto;line-height:normal;font-family:Menlo,'DejaVu Sans Mono',consolas,'Courier New',monospace\"><span style=\"font-weight: bold\"> Non-trainable params: </span><span style=\"color: #00af00; text-decoration-color: #00af00\">21,802,784</span> (83.17 MB)\n",
              "</pre>\n"
            ]
          },
          "metadata": {}
        }
      ],
      "source": [
        "# Viewing the summary of the model\n",
        "model.summary()"
      ]
    },
    {
      "cell_type": "code",
      "execution_count": 34,
      "id": "d969052b",
      "metadata": {
        "execution": {
          "iopub.execute_input": "2023-11-06T07:06:55.454310Z",
          "iopub.status.busy": "2023-11-06T07:06:55.453946Z",
          "iopub.status.idle": "2023-11-06T07:06:55.459345Z",
          "shell.execute_reply": "2023-11-06T07:06:55.458488Z"
        },
        "papermill": {
          "duration": 0.014778,
          "end_time": "2023-11-06T07:06:55.461396",
          "exception": false,
          "start_time": "2023-11-06T07:06:55.446618",
          "status": "completed"
        },
        "tags": [],
        "id": "d969052b"
      },
      "outputs": [],
      "source": [
        "# Setting variables for the model\n",
        "batch_size = 32\n",
        "epochs = 16\n",
        "\n",
        "# Seperating Training and Testing Data\n",
        "train_generator = datagenerator[\"train\"]\n",
        "valid_generator = datagenerator[\"valid\"]"
      ]
    },
    {
      "cell_type": "code",
      "execution_count": 35,
      "id": "43891b1f",
      "metadata": {
        "execution": {
          "iopub.execute_input": "2023-11-06T07:06:55.475095Z",
          "iopub.status.busy": "2023-11-06T07:06:55.474783Z",
          "iopub.status.idle": "2023-11-06T07:06:55.480386Z",
          "shell.execute_reply": "2023-11-06T07:06:55.479471Z"
        },
        "papermill": {
          "duration": 0.015097,
          "end_time": "2023-11-06T07:06:55.482532",
          "exception": false,
          "start_time": "2023-11-06T07:06:55.467435",
          "status": "completed"
        },
        "tags": [],
        "id": "43891b1f",
        "outputId": "ff093eac-0c11-4b21-883b-1924bae192af",
        "colab": {
          "base_uri": "https://localhost:8080/"
        }
      },
      "outputs": [
        {
          "output_type": "stream",
          "name": "stdout",
          "text": [
            "steps_per_epoch : 125\n",
            "validation_steps : 12\n"
          ]
        }
      ],
      "source": [
        "# Calculating variables for the model\n",
        "steps_per_epoch = train_generator.n // batch_size\n",
        "validation_steps = valid_generator.n // batch_size\n",
        "\n",
        "print(\"steps_per_epoch :\", steps_per_epoch)\n",
        "print(\"validation_steps :\", validation_steps)"
      ]
    },
    {
      "cell_type": "code",
      "execution_count": null,
      "id": "c7189766",
      "metadata": {
        "execution": {
          "iopub.execute_input": "2023-11-06T07:06:55.496240Z",
          "iopub.status.busy": "2023-11-06T07:06:55.495972Z",
          "iopub.status.idle": "2023-11-06T07:38:23.865497Z",
          "shell.execute_reply": "2023-11-06T07:38:23.864607Z"
        },
        "papermill": {
          "duration": 1888.379279,
          "end_time": "2023-11-06T07:38:23.868189",
          "exception": false,
          "start_time": "2023-11-06T07:06:55.488910",
          "status": "completed"
        },
        "tags": [],
        "id": "c7189766"
      },
      "outputs": [],
      "source": [
        "# # File Path to store the trained models\n",
        "# filepath = \"\"\n",
        "\n",
        "# # Using the ModelCheckpoint function to train and store all the best models\n",
        "# checkpoint1 = ModelCheckpoint(filepath, monitor='val_accuracy', verbose=1, save_best_only=True, mode='max')\n",
        "\n",
        "# callbacks_list = [checkpoint1]\n",
        "# # Training the Model\n",
        "# history = model.fit_generator(generator=train_generator, epochs=epochs, steps_per_epoch=steps_per_epoch,\n",
        "#                               validation_data=valid_generator, validation_steps=validation_steps,\n",
        "#                               callbacks=callbacks_list)\\\n",
        "import os\n",
        "from tensorflow.keras.callbacks import ModelCheckpoint\n",
        "\n",
        "# Define folder and filename\n",
        "save_dir = \"content\"\n",
        "filename = \"best_model.keras\"\n",
        "filepath = os.path.join(save_dir, filename)\n",
        "\n",
        "# ✅ Create the directory if it doesn't exist\n",
        "os.makedirs(save_dir, exist_ok=True)\n",
        "\n",
        "# Setup ModelCheckpoint callback\n",
        "checkpoint1 = ModelCheckpoint(\n",
        "    filepath,\n",
        "    monitor='val_accuracy',\n",
        "    verbose=1,\n",
        "    save_best_only=True,\n",
        "    mode='max'\n",
        ")\n",
        "\n",
        "callbacks_list = [checkpoint1]\n",
        "\n",
        "# ✅ Training the model\n",
        "history = model.fit(\n",
        "    train_generator,\n",
        "    epochs=epochs,\n",
        "    steps_per_epoch=steps_per_epoch,\n",
        "    validation_data=valid_generator,\n",
        "    validation_steps=validation_steps,\n",
        "    callbacks=callbacks_list\n",
        ")\n"
      ]
    },
    {
      "cell_type": "code",
      "execution_count": 37,
      "id": "a174a529",
      "metadata": {
        "execution": {
          "iopub.execute_input": "2023-11-06T07:38:24.071359Z",
          "iopub.status.busy": "2023-11-06T07:38:24.070604Z",
          "iopub.status.idle": "2023-11-06T07:38:24.419180Z",
          "shell.execute_reply": "2023-11-06T07:38:24.418150Z"
        },
        "papermill": {
          "duration": 0.453048,
          "end_time": "2023-11-06T07:38:24.421426",
          "exception": false,
          "start_time": "2023-11-06T07:38:23.968378",
          "status": "completed"
        },
        "tags": [],
        "id": "a174a529",
        "outputId": "bda4b7cb-489d-43dc-d282-78b40711f058",
        "colab": {
          "base_uri": "https://localhost:8080/",
          "height": 699
        }
      },
      "outputs": [
        {
          "output_type": "display_data",
          "data": {
            "text/plain": [
              "<Figure size 800x800 with 2 Axes>"
            ],
            "image/png": "[encoded data removed]"
          },
          "metadata": {}
        }
      ],
      "source": [
        "acc = history.history['accuracy']\n",
        "val_acc = history.history['val_accuracy']\n",
        "\n",
        "loss = history.history['loss']\n",
        "val_loss = history.history['val_loss']\n",
        "\n",
        "# ________________ Graph 1 -------------------------\n",
        "\n",
        "plt.figure(figsize=(8, 8))\n",
        "plt.subplot(2, 1, 1)\n",
        "plt.plot(acc, label='Training Accuracy')\n",
        "plt.plot(val_acc, label='Validation Accuracy')\n",
        "plt.legend(loc='lower right')\n",
        "plt.ylabel('Accuracy')\n",
        "plt.ylim([min(plt.ylim()),1])\n",
        "plt.title('Training and Validation Accuracy')\n",
        "\n",
        "# ________________ Graph 2 -------------------------\n",
        "\n",
        "plt.subplot(2, 1, 2)\n",
        "plt.plot(loss, label='Training Loss')\n",
        "plt.plot(val_loss, label='Validation Loss')\n",
        "plt.legend(loc='upper right')\n",
        "plt.ylabel('Cross Entropy')\n",
        "plt.ylim([0,max(plt.ylim())])\n",
        "plt.title('Training and Validation Loss')\n",
        "plt.show()"
      ]
    },
    {
      "cell_type": "code",
      "execution_count": 38,
      "id": "9db8771c",
      "metadata": {
        "execution": {
          "iopub.execute_input": "2023-11-06T07:38:24.627883Z",
          "iopub.status.busy": "2023-11-06T07:38:24.627068Z",
          "iopub.status.idle": "2023-11-06T07:38:32.222058Z",
          "shell.execute_reply": "2023-11-06T07:38:32.221059Z"
        },
        "papermill": {
          "duration": 7.699901,
          "end_time": "2023-11-06T07:38:32.224165",
          "exception": false,
          "start_time": "2023-11-06T07:38:24.524264",
          "status": "completed"
        },
        "tags": [],
        "id": "9db8771c",
        "outputId": "3fa440ea-1b09-4921-bad1-4072c9bacbf0",
        "colab": {
          "base_uri": "https://localhost:8080/"
        }
      },
      "outputs": [
        {
          "output_type": "stream",
          "name": "stdout",
          "text": [
            "\u001b[1m13/13\u001b[0m \u001b[32m━━━━━━━━━━━━━━━━━━━━\u001b[0m\u001b[37m\u001b[0m \u001b[1m4s\u001b[0m 270ms/step - accuracy: 0.6721 - loss: 1.2641\n",
            "test accuracy :  0.6191646456718445\n"
          ]
        }
      ],
      "source": [
        "# Calculate the Loss and Accuracy on the Validation Data\n",
        "test_loss, test_acc = model.evaluate(valid_generator)\n",
        "print('test accuracy : ', test_acc)"
      ]
    },
    {
      "cell_type": "code",
      "source": [
        "from tensorflow.keras.models import load_model\n",
        "import pickle\n",
        "\n",
        "# 1. Save the model in native format\n",
        "model.save(\"best_model.keras\")  # This saves weights, config, optimizer state\n",
        "\n",
        "# 2. (Optional) Save class indices mapping using pickle\n",
        "class_indices = train_generator.class_indices\n",
        "\n",
        "with open(\"class_indices.pkl\", \"wb\") as f:\n",
        "    pickle.dump(class_indices, f)\n",
        "\n",
        "print(\"Model saved as best_model.keras\")\n",
        "print(\"Class indices saved as class_indices.pkl\")\n"
      ],
      "metadata": {
        "colab": {
          "base_uri": "https://localhost:8080/"
        },
        "id": "f-Lw5qoOrJfO",
        "outputId": "49150521-312e-4cf0-8cf7-88d289388036"
      },
      "id": "f-Lw5qoOrJfO",
      "execution_count": 39,
      "outputs": [
        {
          "output_type": "stream",
          "name": "stdout",
          "text": [
            "Model saved as best_model.keras\n",
            "Class indices saved as class_indices.pkl\n"
          ]
        }
      ]
    }
  ],
  "metadata": {
    "kernelspec": {
      "display_name": "Python 3",
      "name": "python3"
    },
    "language_info": {
      "codemirror_mode": {
        "name": "ipython",
        "version": 3
      },
      "file_extension": ".py",
      "mimetype": "text/x-python",
      "name": "python",
      "nbconvert_exporter": "python",
      "pygments_lexer": "ipython3",
      "version": "3.7.12"
    },
    "papermill": {
      "default_parameters": {},
      "duration": 1924.305827,
      "end_time": "2023-11-06T07:38:35.947415",
      "environment_variables": {},
      "exception": true,
      "input_path": "__notebook__.ipynb",
      "output_path": "__notebook__.ipynb",
      "parameters": {},
      "start_time": "2023-11-06T07:06:31.641588",
      "version": "2.3.4"
    },
    "colab": {
      "provenance": [],
      "gpuType": "T4"
    },
    "accelerator": "GPU"
  },
  "nbformat": 4,
  "nbformat_minor": 5
}